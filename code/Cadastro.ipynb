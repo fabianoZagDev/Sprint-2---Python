{
 "cells": [
  {
   "cell_type": "markdown",
   "metadata": {},
   "source": [
    "# Imports"
   ]
  },
  {
   "cell_type": "code",
   "execution_count": 15,
   "metadata": {},
   "outputs": [],
   "source": [
    "import pandas as pd\n",
    "import os"
   ]
  },
  {
   "cell_type": "markdown",
   "metadata": {},
   "source": [
    "# Defs"
   ]
  },
  {
   "cell_type": "code",
   "execution_count": 16,
   "metadata": {},
   "outputs": [],
   "source": [
    "def cadastro():\n",
    "    nome_user = input(\"Digite seu nome de usuário: \")\n",
    "    nome = input(\"Digite seu nome: \")\n",
    "    email = input(\"Digite seu email: \")\n",
    "    data_nasc = input(\"Digite sua data de nascimento: \") \n",
    "    senha = input(\"Digite sua senha: \")\n",
    "    telefone = input(\"Digite seu telefone: \")\n",
    "    estado = input(\"Digite a sigla do seu estado: \")\n",
    "    pais = input(\"Digite seu país: \")\n",
    "    return nome_user, nome, email, senha, data_nasc, telefone, estado, pais\n"
   ]
  },
  {
   "cell_type": "markdown",
   "metadata": {},
   "source": [
    "# DataFrames"
   ]
  },
  {
   "cell_type": "code",
   "execution_count": 17,
   "metadata": {},
   "outputs": [],
   "source": [
    "# Definir o caminho base (o diretório onde o script está)\n",
    "base_dir = os.path.abspath(os.path.join(os.getcwd(), '..'))\n",
    " \n",
    "# Criar o caminho relativo para os arquivos CSV\n",
    "caminho_usuarios = os.path.join(base_dir, 'Bases', 'Tabela-Usuario.csv')\n",
    "caminho_perfil = os.path.join(base_dir, 'Bases', 'Tabela-Perfil.csv')\n",
    "caminho_pessoa = os.path.join(base_dir, 'Bases', 'Tabela-Pessoa.csv')\n",
    "\n",
    "tabela_usuario = pd.read_csv(caminho_usuarios, sep=';')\n",
    "tabela_perfil = pd.read_csv(caminho_perfil, sep=';')\n",
    "tabela_pessoa = pd.read_csv(caminho_pessoa, sep=';') "
   ]
  },
  {
   "cell_type": "markdown",
   "metadata": {},
   "source": [
    "# Infos"
   ]
  },
  {
   "cell_type": "code",
   "execution_count": 18,
   "metadata": {},
   "outputs": [],
   "source": [
    "infos = cadastro()\n",
    "\n",
    "novo_id_usuario = len(tabela_usuario) + 1\n",
    "\n",
    "infosUsuario = {\n",
    "    \"Id. Usuario\": novo_id_usuario,\n",
    "    \"Nome Usuario\": infos[0],\n",
    "    \"Email\":infos[2],\n",
    "    \"Senha\":infos[3]\n",
    "    }\n",
    "infosPerfil = {\n",
    "    \"Id. Usuario\": infosUsuario[\"Id. Usuario\"],\n",
    "    \"Nome Usuario\": infosUsuario['Nome Usuario'],\n",
    "    \"Nome\": infos[1],\n",
    "    \"Id. Equipe\":0,\n",
    "    \"Id. Membro\":0,\n",
    "    \"Id. Prestigio\":1,\n",
    "    \"Id. Nivel\":1,\n",
    "    \"Id. Recompensa\":0,\n",
    "    \"Total Pontos\":0,\n",
    "    \"Num Sessoes\":0\n",
    "}\n",
    "infosPessoa = {\n",
    "    \"Id. Usuario\": infosUsuario['Id. Usuario'],\n",
    "    \"Nome\":infos[1],\n",
    "    \"Email\":infosUsuario[\"Email\"],\n",
    "    \"Senha\":infosUsuario[\"Senha\"],\n",
    "    \"Tel\":infos[5],\n",
    "    \"Data Nasc\":infos[4],\n",
    "    \"UF\":infos[6],\n",
    "    \"Pais\":infos[7]\n",
    "}"
   ]
  },
  {
   "cell_type": "code",
   "execution_count": 19,
   "metadata": {},
   "outputs": [],
   "source": [
    "df_usuario = pd.DataFrame([infosUsuario])\n",
    "df_perfil = pd.DataFrame([infosPerfil])\n",
    "df_pessoa = pd.DataFrame([infosPessoa])\n",
    "\n",
    "tabela_usuario = pd.concat([tabela_usuario, df_usuario], ignore_index=True)\n",
    "tabela_perfil = pd.concat([tabela_perfil, df_perfil], ignore_index=True)\n",
    "tabela_pessoa = pd.concat([tabela_pessoa, df_pessoa], ignore_index=True)"
   ]
  },
  {
   "cell_type": "markdown",
   "metadata": {},
   "source": [
    "# Salvar Infos"
   ]
  },
  {
   "cell_type": "code",
   "execution_count": 20,
   "metadata": {},
   "outputs": [],
   "source": [
    "tabela_usuario.to_csv(caminho_usuarios, sep=';', index=False)\n",
    "tabela_perfil.to_csv(caminho_perfil, sep=';', index=False)\n",
    "tabela_pessoa.to_csv(caminho_pessoa, sep=';', index=False)"
   ]
  }
 ],
 "metadata": {
  "kernelspec": {
   "display_name": "Python 3",
   "language": "python",
   "name": "python3"
  },
  "language_info": {
   "codemirror_mode": {
    "name": "ipython",
    "version": 3
   },
   "file_extension": ".py",
   "mimetype": "text/x-python",
   "name": "python",
   "nbconvert_exporter": "python",
   "pygments_lexer": "ipython3",
   "version": "3.12.3"
  }
 },
 "nbformat": 4,
 "nbformat_minor": 2
}
